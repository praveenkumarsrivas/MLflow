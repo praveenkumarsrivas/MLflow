{
 "cells": [
  {
   "cell_type": "code",
   "execution_count": 35,
   "id": "383e4398",
   "metadata": {
    "ExecuteTime": {
     "end_time": "2024-02-23T14:52:22.092667Z",
     "start_time": "2024-02-23T14:52:22.076256Z"
    }
   },
   "outputs": [],
   "source": [
    "import mlflow\n",
    "from mlflow import MlflowClient\n",
    "from pprint import pprint\n",
    "from sklearn.ensemble import RandomForestRegressor\n",
    "import pandas as pd\n",
    "pd.set_option('display.max_columns', None)  \n"
   ]
  },
  {
   "cell_type": "code",
   "execution_count": 36,
   "id": "0e7dc8d7",
   "metadata": {
    "ExecuteTime": {
     "end_time": "2024-02-23T14:52:22.232963Z",
     "start_time": "2024-02-23T14:52:22.223892Z"
    }
   },
   "outputs": [],
   "source": [
    "# creating client API\n",
    "client = MlflowClient(tracking_uri='http://127.0.0.1:8080') #"
   ]
  },
  {
   "cell_type": "code",
   "execution_count": 37,
   "id": "f7f665b6",
   "metadata": {
    "ExecuteTime": {
     "end_time": "2024-02-23T14:52:22.404536Z",
     "start_time": "2024-02-23T14:52:22.383613Z"
    }
   },
   "outputs": [
    {
     "data": {
      "text/plain": [
       "<mlflow.tracking.client.MlflowClient at 0x1589ef0a5e0>"
      ]
     },
     "execution_count": 37,
     "metadata": {},
     "output_type": "execute_result"
    }
   ],
   "source": [
    "client"
   ]
  },
  {
   "cell_type": "code",
   "execution_count": 38,
   "id": "e21a7d93",
   "metadata": {
    "ExecuteTime": {
     "end_time": "2024-02-23T14:52:22.590826Z",
     "start_time": "2024-02-23T14:52:22.540399Z"
    }
   },
   "outputs": [
    {
     "name": "stdout",
     "output_type": "stream",
     "text": [
      "[<Experiment: artifact_location='mlflow-artifacts:/0', creation_time=1708585971334, experiment_id='0', last_update_time=1708585971334, lifecycle_stage='active', name='Default', tags={}>]\n"
     ]
    }
   ],
   "source": [
    "all_experiments = client.search_experiments()\n",
    "\n",
    "print(all_experiments)"
   ]
  },
  {
   "cell_type": "code",
   "execution_count": null,
   "id": "2325a0e8",
   "metadata": {},
   "outputs": [],
   "source": []
  },
  {
   "cell_type": "code",
   "execution_count": 39,
   "id": "f3dff813",
   "metadata": {
    "ExecuteTime": {
     "end_time": "2024-02-23T14:52:23.743527Z",
     "start_time": "2024-02-23T14:52:23.736551Z"
    }
   },
   "outputs": [],
   "source": [
    "# Provide an Experiment description that will appear in the UI\n",
    "experiment_description = (\n",
    "    \"This is the grocery forecasting project. \"\n",
    "    \"This experiment contains the produce models for apples.\"\n",
    ")"
   ]
  },
  {
   "cell_type": "code",
   "execution_count": 40,
   "id": "4c239487",
   "metadata": {
    "ExecuteTime": {
     "end_time": "2024-02-23T14:52:24.208406Z",
     "start_time": "2024-02-23T14:52:24.199727Z"
    }
   },
   "outputs": [],
   "source": [
    "# Provide searchable tags that define characteristics of the Runs that\n",
    "# will be in this Experiment\n",
    "experiment_tags = {\n",
    "    \"project_name\": \"grocery-forecasting\",\n",
    "    \"store_dept\": \"produce\",\n",
    "    \"team\": \"stores-ml\",\n",
    "    \"project_quarter\": \"Q3-2023\",\n",
    "    \"project-owner\": \"praveen\",\n",
    "    \"mlflow.note.content\": experiment_description,\n",
    "}"
   ]
  },
  {
   "cell_type": "code",
   "execution_count": 41,
   "id": "f56a3bba",
   "metadata": {
    "ExecuteTime": {
     "end_time": "2024-02-23T14:52:24.756565Z",
     "start_time": "2024-02-23T14:52:24.687322Z"
    },
    "scrolled": true
   },
   "outputs": [],
   "source": [
    "# Create the Experiment, providing a unique name\n",
    "produce_apples_experiment = client.create_experiment(\n",
    "    name=\"Apple_Models\", tags=experiment_tags\n",
    ")"
   ]
  },
  {
   "cell_type": "code",
   "execution_count": 42,
   "id": "bfd6ff69",
   "metadata": {
    "ExecuteTime": {
     "end_time": "2024-02-23T14:52:25.333188Z",
     "start_time": "2024-02-23T14:52:25.295862Z"
    }
   },
   "outputs": [
    {
     "name": "stdout",
     "output_type": "stream",
     "text": [
      "{'_experiment_id': '922474137088271869', '_name': 'Apple_Models', '_artifact_location': 'mlflow-artifacts:/922474137088271869', '_lifecycle_stage': 'active', '_tags': {'mlflow.note.content': 'This is the grocery forecasting project. This experiment contains the produce models for apples.', 'project-owner': 'praveen', 'project_name': 'grocery-forecasting', 'project_quarter': 'Q3-2023', 'store_dept': 'produce', 'team': 'stores-ml'}, '_creation_time': 1708699944709, '_last_update_time': 1708699944709}\n"
     ]
    }
   ],
   "source": [
    "# Use search_experiments() to search on the project_name tag key\n",
    "\n",
    "apples_experiment = client.search_experiments(\n",
    "    filter_string=\"tags.`project_name` = 'grocery-forecasting'\"\n",
    ")\n",
    "\n",
    "print(vars(apples_experiment[0]))\n"
   ]
  },
  {
   "cell_type": "code",
   "execution_count": 43,
   "id": "a0f40441",
   "metadata": {
    "ExecuteTime": {
     "end_time": "2024-02-23T14:52:27.050034Z",
     "start_time": "2024-02-23T14:52:27.036582Z"
    }
   },
   "outputs": [
    {
     "data": {
      "text/plain": [
       "dict_items"
      ]
     },
     "execution_count": 43,
     "metadata": {},
     "output_type": "execute_result"
    }
   ],
   "source": [
    "type(vars(apples_experiment[0]).items())"
   ]
  },
  {
   "cell_type": "code",
   "execution_count": 44,
   "id": "909f3cf5",
   "metadata": {
    "ExecuteTime": {
     "end_time": "2024-02-23T14:52:27.687047Z",
     "start_time": "2024-02-23T14:52:27.668384Z"
    }
   },
   "outputs": [
    {
     "name": "stdout",
     "output_type": "stream",
     "text": [
      "_experiment_id : \t 922474137088271869\n",
      "_name : \t Apple_Models\n",
      "_artifact_location : \t mlflow-artifacts:/922474137088271869\n",
      "_lifecycle_stage : \t active\n",
      "_tags : \t {'mlflow.note.content': 'This is the grocery forecasting project. This experiment contains the produce models for apples.', 'project-owner': 'praveen', 'project_name': 'grocery-forecasting', 'project_quarter': 'Q3-2023', 'store_dept': 'produce', 'team': 'stores-ml'}\n",
      "_creation_time : \t 1708699944709\n",
      "_last_update_time : \t 1708699944709\n"
     ]
    }
   ],
   "source": [
    "for k,v in vars(apples_experiment[0]).items():\n",
    "    print(k,\": \\t\",v)"
   ]
  },
  {
   "cell_type": "code",
   "execution_count": 46,
   "id": "2d6abb16",
   "metadata": {
    "ExecuteTime": {
     "end_time": "2024-02-23T14:53:10.186076Z",
     "start_time": "2024-02-23T14:53:10.176080Z"
    }
   },
   "outputs": [
    {
     "data": {
      "text/plain": [
       "'praveen'"
      ]
     },
     "execution_count": 46,
     "metadata": {},
     "output_type": "execute_result"
    }
   ],
   "source": [
    "apples_experiment[0].tags['project-owner']"
   ]
  },
  {
   "cell_type": "code",
   "execution_count": null,
   "id": "c44fb4be",
   "metadata": {},
   "outputs": [],
   "source": []
  }
 ],
 "metadata": {
  "kernelspec": {
   "display_name": "Python 3 (ipykernel)",
   "language": "python",
   "name": "python3"
  },
  "language_info": {
   "codemirror_mode": {
    "name": "ipython",
    "version": 3
   },
   "file_extension": ".py",
   "mimetype": "text/x-python",
   "name": "python",
   "nbconvert_exporter": "python",
   "pygments_lexer": "ipython3",
   "version": "3.9.7"
  }
 },
 "nbformat": 4,
 "nbformat_minor": 5
}
