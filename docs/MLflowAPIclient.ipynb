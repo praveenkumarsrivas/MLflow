{
 "cells": [
  {
   "cell_type": "markdown",
   "id": "11ececd2",
   "metadata": {},
   "source": [
    "- Creating Experiments\n",
    "- Searching Experiments\n",
    "- Create a dataset about apples\n",
    "- Logging our first runs with MLflow\n",
    "- Logging Your First MLflow Model Notebook"
   ]
  },
  {
   "cell_type": "code",
   "execution_count": 4,
   "id": "dff85067",
   "metadata": {
    "ExecuteTime": {
     "end_time": "2024-02-23T11:05:19.500367Z",
     "start_time": "2024-02-23T11:05:19.483579Z"
    }
   },
   "outputs": [],
   "source": [
    "import mlflow\n",
    "from mlflow import MlflowClient\n",
    "from pprint import pprint\n",
    "from sklearn.ensemble import RandomForestRegressor\n",
    "import pandas as pd\n",
    "pd.set_option('display.max_columns', None)  \n"
   ]
  },
  {
   "cell_type": "code",
   "execution_count": 5,
   "id": "8ce96a55",
   "metadata": {
    "ExecuteTime": {
     "end_time": "2024-02-23T11:05:19.842008Z",
     "start_time": "2024-02-23T11:05:19.825237Z"
    }
   },
   "outputs": [],
   "source": [
    "client = MlflowClient(tracking_uri=\"http://127.0.0.1:8080\")"
   ]
  },
  {
   "cell_type": "code",
   "execution_count": null,
   "id": "ffbbeb7e",
   "metadata": {
    "ExecuteTime": {
     "end_time": "2024-02-23T10:23:04.033124Z",
     "start_time": "2024-02-23T10:23:03.485959Z"
    }
   },
   "outputs": [],
   "source": [
    "all_experiments = client.search_experiments()\n",
    "\n",
    "print(all_experiments)"
   ]
  },
  {
   "cell_type": "code",
   "execution_count": null,
   "id": "c65912a6",
   "metadata": {
    "ExecuteTime": {
     "end_time": "2024-02-23T10:32:23.717061Z",
     "start_time": "2024-02-23T10:32:23.702145Z"
    }
   },
   "outputs": [],
   "source": [
    "all_experiments.index"
   ]
  },
  {
   "cell_type": "code",
   "execution_count": null,
   "id": "f6b7e3c2",
   "metadata": {
    "ExecuteTime": {
     "end_time": "2024-02-23T10:23:33.906201Z",
     "start_time": "2024-02-23T10:23:33.892124Z"
    }
   },
   "outputs": [],
   "source": [
    "default_experiment = [\n",
    "    {\"name\": experiment.name, \"lifecycle_stage\": experiment.lifecycle_stage}\n",
    "    for experiment in all_experiments\n",
    "    if experiment.name == \"Default\"\n",
    "][0]\n",
    "\n",
    "pprint(default_experiment)"
   ]
  },
  {
   "cell_type": "markdown",
   "id": "161141bb",
   "metadata": {},
   "source": [
    "## mlflow.search_run():"
   ]
  },
  {
   "cell_type": "code",
   "execution_count": null,
   "id": "7c429952",
   "metadata": {
    "ExecuteTime": {
     "end_time": "2024-02-23T10:43:32.850345Z",
     "start_time": "2024-02-23T10:43:32.485425Z"
    }
   },
   "outputs": [],
   "source": [
    "import mlflow\n",
    "with mlflow.start_run():\n",
    "    mlflow.log_param(\"param1\",5)\n",
    "    mlflow.log_param(\"param2\",\"value\")\n",
    "    \n",
    "    \n",
    "    mlflow.log_metric(\"accuracy\",0.85)\n",
    "    mlflow.log_metric(\"loss\",0.1)\n",
    "    \n",
    "with mlflow.start_run():\n",
    "    mlflow.log_param(\"param1\",5)\n",
    "    mlflow.log_param(\"param2\",\"some value\")\n",
    "    \n",
    "    \n",
    "    mlflow.log_metric(\"accuracy\",0.95)\n",
    "    mlflow.log_metric(\"loss\",0.08)\n",
    "# Search for runs within the experiment with ID \"my_experiment\"\n",
    "# where the accuracy metric is greater than 0.9\n",
    "runs1 = mlflow.search_runs(experiment_ids=\"0\", filter_string=\"metrics.accuracy = 0.85\")\n"
   ]
  },
  {
   "cell_type": "code",
   "execution_count": null,
   "id": "85588ac8",
   "metadata": {
    "ExecuteTime": {
     "end_time": "2024-02-23T10:49:39.368976Z",
     "start_time": "2024-02-23T10:49:39.349010Z"
    }
   },
   "outputs": [],
   "source": [
    "runs1.head()"
   ]
  },
  {
   "cell_type": "markdown",
   "id": "63758cb1",
   "metadata": {},
   "source": [
    "# mlflow.client.MlflowClient.search_experiments()"
   ]
  },
  {
   "cell_type": "code",
   "execution_count": 2,
   "id": "c1a71657",
   "metadata": {
    "ExecuteTime": {
     "end_time": "2024-02-23T11:05:10.651240Z",
     "start_time": "2024-02-23T11:05:10.375741Z"
    }
   },
   "outputs": [],
   "source": [
    "from sklearn.ensemble import RandomForestClassifier\n",
    "from sklearn.datasets import load_iris\n",
    "from sklearn.model_selection import train_test_split\n",
    "from sklearn.metrics import accuracy_score\n",
    "import mlflow\n",
    "\n",
    "# Load Iris dataset\n",
    "iris = load_iris()\n",
    "X_train, X_test, y_train, y_test = train_test_split(iris.data, iris.target, test_size=0.2, random_state=42)\n",
    "\n",
    "# Start MLflow experiment\n",
    "mlflow.set_experiment(\"Hyperparameter Optimization for Random Forest Classifier\")\n",
    "with mlflow.start_run():\n",
    "\n",
    "    # Define hyperparameters to tune\n",
    "    n_estimators = 100\n",
    "    max_depth = 5\n",
    "\n",
    "    # Create and train Random Forest classifier\n",
    "    clf = RandomForestClassifier(n_estimators=n_estimators, max_depth=max_depth)\n",
    "    clf.fit(X_train, y_train)\n",
    "\n",
    "    # Evaluate model\n",
    "    y_pred = clf.predict(X_test)\n",
    "    accuracy = accuracy_score(y_test, y_pred)\n",
    "\n",
    "    # Log hyperparameters and metrics\n",
    "    mlflow.log_param(\"n_estimators\", n_estimators)\n",
    "    mlflow.log_param(\"max_depth\", max_depth)\n",
    "    mlflow.log_metric(\"accuracy\", accuracy)\n",
    "    \n",
    "    \n",
    "    \n",
    "    \n",
    "import pandas as pd\n",
    "from sklearn.linear_model import LogisticRegression\n",
    "from sklearn.metrics import accuracy_score\n",
    "import mlflow\n",
    "\n",
    "# Dummy customer churn data\n",
    "data = {\n",
    "    'age': [25, 35, 45, 55, 65],\n",
    "    'income': [50000, 60000, 70000, 80000, 90000],\n",
    "    'churn': [0, 1, 0, 1, 0]\n",
    "}\n",
    "\n",
    "df = pd.DataFrame(data)\n",
    "\n",
    "# Split features and target variable\n",
    "X = df[['age', 'income']]\n",
    "y = df['churn']\n",
    "\n",
    "# Start MLflow experiment\n",
    "mlflow.set_experiment(\"Logistic Regression for Customer Churn Prediction\")\n",
    "with mlflow.start_run():\n",
    "\n",
    "    # Create and train Logistic Regression model\n",
    "    clf = LogisticRegression()\n",
    "    clf.fit(X, y)\n",
    "\n",
    "    # Evaluate model\n",
    "    y_pred = clf.predict(X)\n",
    "    accuracy = accuracy_score(y, y_pred)\n",
    "\n",
    "    # Log metrics\n",
    "    mlflow.log_metric(\"accuracy\", accuracy)"
   ]
  },
  {
   "cell_type": "code",
   "execution_count": 31,
   "id": "a07a1ffd",
   "metadata": {
    "ExecuteTime": {
     "end_time": "2024-02-23T11:14:03.701800Z",
     "start_time": "2024-02-23T11:14:03.666726Z"
    }
   },
   "outputs": [
    {
     "name": "stdout",
     "output_type": "stream",
     "text": [
      "Matching experiments:\n",
      "Experiment ID: 296919399863335561\n",
      "Experiment Name: Logistic Regression for Customer Churn Prediction\n",
      "Artifact Location: file:///C:/Users/psrivas/OneDrive%20-%20RadiSys%20Corporation/Documents/MLflow/mlruns/296919399863335561\n",
      "-----------------------------\n"
     ]
    }
   ],
   "source": [
    "experiments = client.search_experiments(filter_string=\"name LIKE '%Churn%'\")\n",
    "\n",
    "# Print information about the matching experiments\n",
    "print(\"Matching experiments:\")\n",
    "for experiment in experiments:\n",
    "    print(\"Experiment ID:\", experiment.experiment_id)\n",
    "    print(\"Experiment Name:\", experiment.name)\n",
    "    print(\"Artifact Location:\", experiment.artifact_location)\n",
    "    print(\"-----------------------------\")"
   ]
  },
  {
   "cell_type": "code",
   "execution_count": 29,
   "id": "d4f7ba9c",
   "metadata": {
    "ExecuteTime": {
     "end_time": "2024-02-23T11:13:13.575793Z",
     "start_time": "2024-02-23T11:13:13.555721Z"
    }
   },
   "outputs": [],
   "source": [
    "experiment_id = \"296919399863335561\""
   ]
  },
  {
   "cell_type": "code",
   "execution_count": 30,
   "id": "fb24875f",
   "metadata": {
    "ExecuteTime": {
     "end_time": "2024-02-23T11:13:13.934351Z",
     "start_time": "2024-02-23T11:13:13.910299Z"
    }
   },
   "outputs": [
    {
     "data": {
      "text/plain": [
       "<Experiment: artifact_location='file:///C:/Users/psrivas/OneDrive%20-%20RadiSys%20Corporation/Documents/MLflow/mlruns/296919399863335561', creation_time=1708685956778, experiment_id='296919399863335561', last_update_time=1708685956778, lifecycle_stage='active', name='Logistic Regression for Customer Churn Prediction', tags={}>"
      ]
     },
     "execution_count": 30,
     "metadata": {},
     "output_type": "execute_result"
    }
   ],
   "source": [
    "# Search for experiments with the specified experiment ID\n",
    "experiments = mlflow.get_experiment(experiment_id)\n",
    "experiments\n"
   ]
  },
  {
   "cell_type": "code",
   "execution_count": null,
   "id": "bab3e15a",
   "metadata": {
    "ExecuteTime": {
     "end_time": "2024-02-23T10:59:32.508007Z",
     "start_time": "2024-02-23T10:59:32.480999Z"
    }
   },
   "outputs": [],
   "source": [
    "pd.DataFrame(experiments)"
   ]
  },
  {
   "cell_type": "code",
   "execution_count": null,
   "id": "48e63756",
   "metadata": {},
   "outputs": [],
   "source": []
  }
 ],
 "metadata": {
  "kernelspec": {
   "display_name": "Python 3 (ipykernel)",
   "language": "python",
   "name": "python3"
  },
  "language_info": {
   "codemirror_mode": {
    "name": "ipython",
    "version": 3
   },
   "file_extension": ".py",
   "mimetype": "text/x-python",
   "name": "python",
   "nbconvert_exporter": "python",
   "pygments_lexer": "ipython3",
   "version": "3.9.7"
  }
 },
 "nbformat": 4,
 "nbformat_minor": 5
}
